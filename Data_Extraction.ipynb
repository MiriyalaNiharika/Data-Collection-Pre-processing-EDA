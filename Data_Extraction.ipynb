{
 "cells": [
  {
   "cell_type": "code",
   "execution_count": 1,
   "id": "272b2b53",
   "metadata": {},
   "outputs": [],
   "source": [
    "#Importing required libraries\n",
    "import pandas as pd\n",
    "import wikipedia\n",
    "import numpy as np"
   ]
  },
  {
   "cell_type": "code",
   "execution_count": 2,
   "id": "2092249b",
   "metadata": {},
   "outputs": [
    {
     "data": {
      "text/html": [
       "<div>\n",
       "<style scoped>\n",
       "    .dataframe tbody tr th:only-of-type {\n",
       "        vertical-align: middle;\n",
       "    }\n",
       "\n",
       "    .dataframe tbody tr th {\n",
       "        vertical-align: top;\n",
       "    }\n",
       "\n",
       "    .dataframe thead th {\n",
       "        text-align: right;\n",
       "    }\n",
       "</style>\n",
       "<table border=\"1\" class=\"dataframe\">\n",
       "  <thead>\n",
       "    <tr style=\"text-align: right;\">\n",
       "      <th></th>\n",
       "      <th>Name</th>\n",
       "      <th>Conservation status</th>\n",
       "      <th>Kingdom</th>\n",
       "      <th>Phylum</th>\n",
       "      <th>Class</th>\n",
       "      <th>Order</th>\n",
       "      <th>Family</th>\n",
       "      <th>Genus</th>\n",
       "      <th>Species</th>\n",
       "      <th>Binomial Name</th>\n",
       "      <th>Synonyms</th>\n",
       "      <th>Summary</th>\n",
       "      <th>Categories</th>\n",
       "      <th>References</th>\n",
       "      <th>Wiki URL</th>\n",
       "      <th>Image</th>\n",
       "    </tr>\n",
       "  </thead>\n",
       "  <tbody>\n",
       "  </tbody>\n",
       "</table>\n",
       "</div>"
      ],
      "text/plain": [
       "Empty DataFrame\n",
       "Columns: [Name, Conservation status, Kingdom, Phylum, Class, Order, Family, Genus, Species, Binomial Name, Synonyms, Summary, Categories, References, Wiki URL, Image]\n",
       "Index: []"
      ]
     },
     "execution_count": 2,
     "metadata": {},
     "output_type": "execute_result"
    }
   ],
   "source": [
    "#Every bird in the link has its own wiki page. On the right of the page, we have an infobox with the key features of each bird\n",
    "#The following attributes are extracted from the infobox and added to a dataframe:\n",
    "birds = pd.DataFrame(columns=['Name','Conservation status','Kingdom','Phylum','Class','Order','Family', 'Genus', 'Species', 'Binomial Name', 'Synonyms', 'Summary', 'Categories', 'References', 'Wiki URL', 'Image'])\n",
    "birds"
   ]
  },
  {
   "cell_type": "code",
   "execution_count": null,
   "id": "2a91fadf",
   "metadata": {},
   "outputs": [],
   "source": [
    "#A 'get' function to retrieve each of the above attributes:"
   ]
  },
  {
   "cell_type": "code",
   "execution_count": 3,
   "id": "2350ec4c",
   "metadata": {},
   "outputs": [],
   "source": [
    "def get_conservation_status(df1):\n",
    "    for i in range(0,len(list(df1.index))):\n",
    "        if list(df1.index)[i] == 'Conservation status':\n",
    "            return (list(df1.index)[i+1])\n",
    "    if 'Conservation status' not in list(df1.index):\n",
    "        return np.NaN"
   ]
  },
  {
   "cell_type": "code",
   "execution_count": 4,
   "id": "b0433eb4",
   "metadata": {},
   "outputs": [],
   "source": [
    "def get_kingdom(df1):\n",
    "    if 'Kingdom:' in list(df1.index):\n",
    "        return (df1.loc['Kingdom:'][0])\n",
    "    else:\n",
    "        return np.NaN"
   ]
  },
  {
   "cell_type": "code",
   "execution_count": 5,
   "id": "8f95d062",
   "metadata": {},
   "outputs": [],
   "source": [
    "def get_phylum(df1):\n",
    "    if 'Phylum:' in list(df1.index):\n",
    "        return (df1.loc['Phylum:'][0])\n",
    "    else:\n",
    "        return np.NaN"
   ]
  },
  {
   "cell_type": "code",
   "execution_count": 6,
   "id": "3f1cc461",
   "metadata": {},
   "outputs": [],
   "source": [
    "def get_class(df1):\n",
    "    if 'Class:' in list(df1.index):\n",
    "        return (df1.loc['Class:'][0])\n",
    "    else:\n",
    "        return np.NaN"
   ]
  },
  {
   "cell_type": "code",
   "execution_count": 7,
   "id": "beb3ff67",
   "metadata": {},
   "outputs": [],
   "source": [
    "def get_order(df1):\n",
    "    if 'Order:' in list(df1.index):\n",
    "        return (df1.loc['Order:'][0])\n",
    "    else:\n",
    "        return np.NaN"
   ]
  },
  {
   "cell_type": "code",
   "execution_count": 8,
   "id": "70de0dab",
   "metadata": {},
   "outputs": [],
   "source": [
    "def get_family(df1):\n",
    "    if 'Family:' in list(df1.index):\n",
    "        return (df1.loc['Family:'][0])\n",
    "    else:\n",
    "        return np.NaN"
   ]
  },
  {
   "cell_type": "code",
   "execution_count": 9,
   "id": "198b85ce",
   "metadata": {},
   "outputs": [],
   "source": [
    "def get_genus(df1):\n",
    "    if 'Genus:' in list(df1.index):\n",
    "        return (df1.loc['Genus:'][0])\n",
    "    else:\n",
    "        return np.NaN"
   ]
  },
  {
   "cell_type": "code",
   "execution_count": 10,
   "id": "77bf9736",
   "metadata": {},
   "outputs": [],
   "source": [
    "def get_species(df1):\n",
    "    if 'Species:' in list(df1.index):\n",
    "        return (df1.loc['Species:'][0])\n",
    "    else:\n",
    "        return np.NaN"
   ]
  },
  {
   "cell_type": "code",
   "execution_count": 11,
   "id": "16352a1b",
   "metadata": {},
   "outputs": [],
   "source": [
    "def get_binomial_name(df1):\n",
    "    for i in range(0,len(list(df1.index))):\n",
    "        if list(df1.index)[i] == 'Binomial name':\n",
    "            return(list(df1.index)[i+1])\n",
    "    if 'Binomial name' not in list(df1.index):\n",
    "        return np.NaN"
   ]
  },
  {
   "cell_type": "code",
   "execution_count": 12,
   "id": "86bb6fce",
   "metadata": {},
   "outputs": [],
   "source": [
    "def get_synonyms(df1):\n",
    "    for i in range(0,len(list(df1.index))):\n",
    "        if list(df1.index)[i] == 'Synonyms':\n",
    "            return(list(df1.index)[i+1])\n",
    "    if 'Synonyms' not in list(df1.index):\n",
    "        return np.NaN"
   ]
  },
  {
   "cell_type": "code",
   "execution_count": 13,
   "id": "3453a51a",
   "metadata": {},
   "outputs": [],
   "source": [
    "def get_summary(name):\n",
    "    return(wikipedia.summary(name, sentences=2))"
   ]
  },
  {
   "cell_type": "code",
   "execution_count": 14,
   "id": "d16e2f49",
   "metadata": {},
   "outputs": [],
   "source": [
    "def get_categories(name):\n",
    "    categories = wikipedia.page(name)\n",
    "    return(categories.categories[0:3])"
   ]
  },
  {
   "cell_type": "code",
   "execution_count": 15,
   "id": "0a87be4e",
   "metadata": {},
   "outputs": [],
   "source": [
    "def get_references(name):\n",
    "    refs = wikipedia.page(name)\n",
    "    return(refs.references[0:3])"
   ]
  },
  {
   "cell_type": "code",
   "execution_count": 16,
   "id": "3847aa02",
   "metadata": {},
   "outputs": [],
   "source": [
    "def get_url(name):\n",
    "    url = wikipedia.page(name)\n",
    "    return(url.url)"
   ]
  },
  {
   "cell_type": "code",
   "execution_count": 17,
   "id": "c6e22c70",
   "metadata": {},
   "outputs": [],
   "source": [
    "def get_image(name):\n",
    "    image = wikipedia.page(name)\n",
    "    return(image.images[0])"
   ]
  },
  {
   "cell_type": "code",
   "execution_count": 18,
   "id": "080fbe8b",
   "metadata": {},
   "outputs": [],
   "source": [
    "#Appending all the extracted attributes:\n",
    "def extract_data(infobox):\n",
    "    df = pd.DataFrame(infobox)\n",
    "    df = df.dropna()\n",
    "    row = [list(df.columns)[0]]\n",
    "    \n",
    "    df = df.set_index(list(df.columns)[0])\n",
    "    \n",
    "    row.append(get_conservation_status(df))\n",
    "    row.append(get_kingdom(df))\n",
    "    row.append(get_phylum(df))\n",
    "    row.append(get_class(df))\n",
    "    row.append(get_order(df))\n",
    "    row.append(get_family(df))\n",
    "    row.append(get_genus(df))\n",
    "    row.append(get_species(df))\n",
    "    row.append(get_binomial_name(df))\n",
    "    row.append(get_synonyms(df))\n",
    "    row.append(get_summary(row[0]))\n",
    "    row.append(get_categories(row[0]))\n",
    "    row.append(get_references(row[0]))\n",
    "    row.append(get_url(row[0]))\n",
    "    row.append(get_image(row[0]))\n",
    "    \n",
    "    birds_length = len(birds)\n",
    "    birds.loc[birds_length] = row"
   ]
  },
  {
   "cell_type": "code",
   "execution_count": 19,
   "id": "db8a3d8d",
   "metadata": {},
   "outputs": [],
   "source": [
    "#Add the obtained wiki-links here\n",
    "#To save time in execution, only 3 links are taken out\n",
    "pages = ['https://en.wikipedia.org/wiki/Giant_honeyeater','https://en.wikipedia.org/wiki/Giant_hummingbird','https://en.wikipedia.org/wiki/Giant_ibis']"
   ]
  },
  {
   "cell_type": "code",
   "execution_count": 20,
   "id": "7e21ce1a",
   "metadata": {},
   "outputs": [
    {
     "name": "stdout",
     "output_type": "stream",
     "text": [
      "                                      Name  \\\n",
      "0  (Giant honeyeater, Conservation status)   \n",
      "1                        Giant hummingbird   \n",
      "2                               Giant ibis   \n",
      "\n",
      "                   Conservation status   Kingdom    Phylum Class  \\\n",
      "0                                  NaN  Animalia  Chordata  Aves   \n",
      "1          Least Concern (IUCN 3.1)[1]  Animalia  Chordata  Aves   \n",
      "2  Critically Endangered (IUCN 3.1)[1]  Animalia  Chordata  Aves   \n",
      "\n",
      "            Order             Family                       Genus  \\\n",
      "0   Passeriformes       Meliphagidae                   Gymnomyza   \n",
      "1     Apodiformes        Trochilidae     PatagonaG.R. Gray, 1840   \n",
      "2  Pelecaniformes  Threskiornithidae  ThaumatibisElliot, 1877[2]   \n",
      "\n",
      "             Species                         Binomial Name  \\\n",
      "0  G. brunneirostris  Gymnomyza brunneirostris(Mayr, 1932)   \n",
      "1           P. gigas        Patagona gigas(Vieillot, 1824)   \n",
      "2        T. gigantea  Thaumatibis gigantea(Oustalet, 1877)   \n",
      "\n",
      "                            Synonyms  \\\n",
      "0                                NaN   \n",
      "1                                NaN   \n",
      "2  Pseudibis gigantea Oustalet, 1877   \n",
      "\n",
      "                                             Summary  \\\n",
      "0  The conservation status of a group of organism...   \n",
      "1  The giant hummingbird (Patagona gigas) is the ...   \n",
      "2  The giant ibis (Thaumatibis gigantea), the onl...   \n",
      "\n",
      "                                          Categories  \\\n",
      "0  [All articles containing potentially dated sta...   \n",
      "1  [Articles with 'species' microformats, Article...   \n",
      "2  [Articles with 'species' microformats, Article...   \n",
      "\n",
      "                                          References  \\\n",
      "0  [http://www.inbo.be/content/homepage_en.asp, h...   \n",
      "1  [http://ibc.lynxeds.com/sound/giant-hummingbir...   \n",
      "2  [http://www.arkive.org/giant-ibis/thaumatibis-...   \n",
      "\n",
      "                                            Wiki URL  \\\n",
      "0  https://en.wikipedia.org/wiki/Conservation_status   \n",
      "1    https://en.wikipedia.org/wiki/Giant_hummingbird   \n",
      "2           https://en.wikipedia.org/wiki/Giant_ibis   \n",
      "\n",
      "                                               Image  \n",
      "0  https://upload.wikimedia.org/wikipedia/commons...  \n",
      "1  https://upload.wikimedia.org/wikipedia/commons...  \n",
      "2  https://upload.wikimedia.org/wikipedia/commons...  \n"
     ]
    }
   ],
   "source": [
    "for i in pages:\n",
    "    infoboxes = pd.read_html(i, attrs={\"class\":\"infobox biota\"})\n",
    "    if len(infoboxes)==1:\n",
    "        extract_data(infoboxes[0])\n",
    "print(birds)"
   ]
  },
  {
   "cell_type": "code",
   "execution_count": 29,
   "id": "53b39523",
   "metadata": {},
   "outputs": [
    {
     "name": "stdout",
     "output_type": "stream",
     "text": [
      "DataFrame is written to Excel File successfully.\n"
     ]
    }
   ],
   "source": [
    "#Exporting data to Excel\n",
    "#Give File name here\n",
    "file_name = 'Birds_Dataset_before_Data-preprocessing.xlsx'\n",
    "  \n",
    "# writing to excel\n",
    "birds.to_excel(file_name)\n",
    "print('DataFrame is written to Excel File successfully.')"
   ]
  },
  {
   "cell_type": "code",
   "execution_count": 31,
   "id": "f219c3fc",
   "metadata": {},
   "outputs": [
    {
     "data": {
      "text/html": [
       "<div>\n",
       "<style scoped>\n",
       "    .dataframe tbody tr th:only-of-type {\n",
       "        vertical-align: middle;\n",
       "    }\n",
       "\n",
       "    .dataframe tbody tr th {\n",
       "        vertical-align: top;\n",
       "    }\n",
       "\n",
       "    .dataframe thead th {\n",
       "        text-align: right;\n",
       "    }\n",
       "</style>\n",
       "<table border=\"1\" class=\"dataframe\">\n",
       "  <thead>\n",
       "    <tr style=\"text-align: right;\">\n",
       "      <th></th>\n",
       "      <th>Name</th>\n",
       "      <th>Conservation status</th>\n",
       "      <th>Kingdom</th>\n",
       "      <th>Phylum</th>\n",
       "      <th>Class</th>\n",
       "      <th>Order</th>\n",
       "      <th>Family</th>\n",
       "      <th>Genus</th>\n",
       "      <th>Species</th>\n",
       "      <th>Binomial Name</th>\n",
       "      <th>Synonyms</th>\n",
       "      <th>Summary</th>\n",
       "      <th>Categories</th>\n",
       "      <th>References</th>\n",
       "      <th>Wiki URL</th>\n",
       "      <th>Image</th>\n",
       "    </tr>\n",
       "  </thead>\n",
       "  <tbody>\n",
       "    <tr>\n",
       "      <th>0</th>\n",
       "      <td>(Giant honeyeater, Conservation status)</td>\n",
       "      <td>NaN</td>\n",
       "      <td>Animalia</td>\n",
       "      <td>Chordata</td>\n",
       "      <td>Aves</td>\n",
       "      <td>Passeriformes</td>\n",
       "      <td>Meliphagidae</td>\n",
       "      <td>Gymnomyza</td>\n",
       "      <td>G. brunneirostris</td>\n",
       "      <td>Gymnomyza brunneirostris(Mayr, 1932)</td>\n",
       "      <td>NaN</td>\n",
       "      <td>The conservation status of a group of organism...</td>\n",
       "      <td>[All articles containing potentially dated sta...</td>\n",
       "      <td>[http://www.inbo.be/content/homepage_en.asp, h...</td>\n",
       "      <td>https://en.wikipedia.org/wiki/Conservation_status</td>\n",
       "      <td>https://upload.wikimedia.org/wikipedia/commons...</td>\n",
       "    </tr>\n",
       "    <tr>\n",
       "      <th>1</th>\n",
       "      <td>Giant hummingbird</td>\n",
       "      <td>Least Concern (IUCN 3.1)[1]</td>\n",
       "      <td>Animalia</td>\n",
       "      <td>Chordata</td>\n",
       "      <td>Aves</td>\n",
       "      <td>Apodiformes</td>\n",
       "      <td>Trochilidae</td>\n",
       "      <td>PatagonaG.R. Gray, 1840</td>\n",
       "      <td>P. gigas</td>\n",
       "      <td>Patagona gigas(Vieillot, 1824)</td>\n",
       "      <td>NaN</td>\n",
       "      <td>The giant hummingbird (Patagona gigas) is the ...</td>\n",
       "      <td>[Articles with 'species' microformats, Article...</td>\n",
       "      <td>[http://ibc.lynxeds.com/sound/giant-hummingbir...</td>\n",
       "      <td>https://en.wikipedia.org/wiki/Giant_hummingbird</td>\n",
       "      <td>https://upload.wikimedia.org/wikipedia/commons...</td>\n",
       "    </tr>\n",
       "    <tr>\n",
       "      <th>2</th>\n",
       "      <td>Giant ibis</td>\n",
       "      <td>Critically Endangered (IUCN 3.1)[1]</td>\n",
       "      <td>Animalia</td>\n",
       "      <td>Chordata</td>\n",
       "      <td>Aves</td>\n",
       "      <td>Pelecaniformes</td>\n",
       "      <td>Threskiornithidae</td>\n",
       "      <td>ThaumatibisElliot, 1877[2]</td>\n",
       "      <td>T. gigantea</td>\n",
       "      <td>Thaumatibis gigantea(Oustalet, 1877)</td>\n",
       "      <td>Pseudibis gigantea Oustalet, 1877</td>\n",
       "      <td>The giant ibis (Thaumatibis gigantea), the onl...</td>\n",
       "      <td>[Articles with 'species' microformats, Article...</td>\n",
       "      <td>[http://www.arkive.org/giant-ibis/thaumatibis-...</td>\n",
       "      <td>https://en.wikipedia.org/wiki/Giant_ibis</td>\n",
       "      <td>https://upload.wikimedia.org/wikipedia/commons...</td>\n",
       "    </tr>\n",
       "  </tbody>\n",
       "</table>\n",
       "</div>"
      ],
      "text/plain": [
       "                                      Name  \\\n",
       "0  (Giant honeyeater, Conservation status)   \n",
       "1                        Giant hummingbird   \n",
       "2                               Giant ibis   \n",
       "\n",
       "                   Conservation status   Kingdom    Phylum Class  \\\n",
       "0                                  NaN  Animalia  Chordata  Aves   \n",
       "1          Least Concern (IUCN 3.1)[1]  Animalia  Chordata  Aves   \n",
       "2  Critically Endangered (IUCN 3.1)[1]  Animalia  Chordata  Aves   \n",
       "\n",
       "            Order             Family                       Genus  \\\n",
       "0   Passeriformes       Meliphagidae                   Gymnomyza   \n",
       "1     Apodiformes        Trochilidae     PatagonaG.R. Gray, 1840   \n",
       "2  Pelecaniformes  Threskiornithidae  ThaumatibisElliot, 1877[2]   \n",
       "\n",
       "             Species                         Binomial Name  \\\n",
       "0  G. brunneirostris  Gymnomyza brunneirostris(Mayr, 1932)   \n",
       "1           P. gigas        Patagona gigas(Vieillot, 1824)   \n",
       "2        T. gigantea  Thaumatibis gigantea(Oustalet, 1877)   \n",
       "\n",
       "                            Synonyms  \\\n",
       "0                                NaN   \n",
       "1                                NaN   \n",
       "2  Pseudibis gigantea Oustalet, 1877   \n",
       "\n",
       "                                             Summary  \\\n",
       "0  The conservation status of a group of organism...   \n",
       "1  The giant hummingbird (Patagona gigas) is the ...   \n",
       "2  The giant ibis (Thaumatibis gigantea), the onl...   \n",
       "\n",
       "                                          Categories  \\\n",
       "0  [All articles containing potentially dated sta...   \n",
       "1  [Articles with 'species' microformats, Article...   \n",
       "2  [Articles with 'species' microformats, Article...   \n",
       "\n",
       "                                          References  \\\n",
       "0  [http://www.inbo.be/content/homepage_en.asp, h...   \n",
       "1  [http://ibc.lynxeds.com/sound/giant-hummingbir...   \n",
       "2  [http://www.arkive.org/giant-ibis/thaumatibis-...   \n",
       "\n",
       "                                            Wiki URL  \\\n",
       "0  https://en.wikipedia.org/wiki/Conservation_status   \n",
       "1    https://en.wikipedia.org/wiki/Giant_hummingbird   \n",
       "2           https://en.wikipedia.org/wiki/Giant_ibis   \n",
       "\n",
       "                                               Image  \n",
       "0  https://upload.wikimedia.org/wikipedia/commons...  \n",
       "1  https://upload.wikimedia.org/wikipedia/commons...  \n",
       "2  https://upload.wikimedia.org/wikipedia/commons...  "
      ]
     },
     "execution_count": 31,
     "metadata": {},
     "output_type": "execute_result"
    }
   ],
   "source": [
    "birds"
   ]
  },
  {
   "cell_type": "code",
   "execution_count": null,
   "id": "941c963c",
   "metadata": {},
   "outputs": [],
   "source": []
  }
 ],
 "metadata": {
  "kernelspec": {
   "display_name": "Python 3",
   "language": "python",
   "name": "python3"
  },
  "language_info": {
   "codemirror_mode": {
    "name": "ipython",
    "version": 3
   },
   "file_extension": ".py",
   "mimetype": "text/x-python",
   "name": "python",
   "nbconvert_exporter": "python",
   "pygments_lexer": "ipython3",
   "version": "3.8.8"
  }
 },
 "nbformat": 4,
 "nbformat_minor": 5
}
