{
 "cells": [
  {
   "cell_type": "code",
   "execution_count": 18,
   "id": "a49c4353",
   "metadata": {},
   "outputs": [],
   "source": [
    "##Importing required libraries\n",
    "import string\n",
    "import numpy as np\n",
    "import pandas as pd"
   ]
  },
  {
   "cell_type": "code",
   "execution_count": 20,
   "id": "ac03e74e",
   "metadata": {},
   "outputs": [
    {
     "data": {
      "text/html": [
       "<div>\n",
       "<style scoped>\n",
       "    .dataframe tbody tr th:only-of-type {\n",
       "        vertical-align: middle;\n",
       "    }\n",
       "\n",
       "    .dataframe tbody tr th {\n",
       "        vertical-align: top;\n",
       "    }\n",
       "\n",
       "    .dataframe thead th {\n",
       "        text-align: right;\n",
       "    }\n",
       "</style>\n",
       "<table border=\"1\" class=\"dataframe\">\n",
       "  <thead>\n",
       "    <tr style=\"text-align: right;\">\n",
       "      <th></th>\n",
       "      <th>Unnamed: 0</th>\n",
       "      <th>Name</th>\n",
       "      <th>Conservation status</th>\n",
       "      <th>Kingdom</th>\n",
       "      <th>Phylum</th>\n",
       "      <th>Class</th>\n",
       "      <th>Order</th>\n",
       "      <th>Family</th>\n",
       "      <th>Genus</th>\n",
       "      <th>Species</th>\n",
       "      <th>Binomial Name</th>\n",
       "      <th>Synonyms</th>\n",
       "      <th>Summary</th>\n",
       "      <th>Categories</th>\n",
       "      <th>References</th>\n",
       "      <th>Wiki URL</th>\n",
       "      <th>Image</th>\n",
       "    </tr>\n",
       "  </thead>\n",
       "  <tbody>\n",
       "    <tr>\n",
       "      <th>0</th>\n",
       "      <td>0</td>\n",
       "      <td>('Giant honeyeater', 'Conservation status')</td>\n",
       "      <td>NaN</td>\n",
       "      <td>Animalia</td>\n",
       "      <td>Chordata</td>\n",
       "      <td>Aves</td>\n",
       "      <td>Passeriformes</td>\n",
       "      <td>Meliphagidae</td>\n",
       "      <td>Gymnomyza</td>\n",
       "      <td>G. brunneirostris</td>\n",
       "      <td>Gymnomyza brunneirostris(Mayr, 1932)</td>\n",
       "      <td>NaN</td>\n",
       "      <td>The conservation status of a group of organism...</td>\n",
       "      <td>['All articles containing potentially dated st...</td>\n",
       "      <td>['http://www.inbo.be/content/homepage_en.asp',...</td>\n",
       "      <td>https://en.wikipedia.org/wiki/Conservation_status</td>\n",
       "      <td>https://upload.wikimedia.org/wikipedia/commons...</td>\n",
       "    </tr>\n",
       "    <tr>\n",
       "      <th>1</th>\n",
       "      <td>1</td>\n",
       "      <td>Giant hummingbird</td>\n",
       "      <td>Least Concern (IUCN 3.1)[1]</td>\n",
       "      <td>Animalia</td>\n",
       "      <td>Chordata</td>\n",
       "      <td>Aves</td>\n",
       "      <td>Apodiformes</td>\n",
       "      <td>Trochilidae</td>\n",
       "      <td>PatagonaG.R. Gray, 1840</td>\n",
       "      <td>P. gigas</td>\n",
       "      <td>Patagona gigas(Vieillot, 1824)</td>\n",
       "      <td>NaN</td>\n",
       "      <td>The giant hummingbird (Patagona gigas) is the ...</td>\n",
       "      <td>[\"Articles with 'species' microformats\", 'Arti...</td>\n",
       "      <td>['http://ibc.lynxeds.com/sound/giant-hummingbi...</td>\n",
       "      <td>https://en.wikipedia.org/wiki/Giant_hummingbird</td>\n",
       "      <td>https://upload.wikimedia.org/wikipedia/commons...</td>\n",
       "    </tr>\n",
       "    <tr>\n",
       "      <th>2</th>\n",
       "      <td>2</td>\n",
       "      <td>Giant ibis</td>\n",
       "      <td>Critically Endangered (IUCN 3.1)[1]</td>\n",
       "      <td>Animalia</td>\n",
       "      <td>Chordata</td>\n",
       "      <td>Aves</td>\n",
       "      <td>Pelecaniformes</td>\n",
       "      <td>Threskiornithidae</td>\n",
       "      <td>ThaumatibisElliot, 1877[2]</td>\n",
       "      <td>T. gigantea</td>\n",
       "      <td>Thaumatibis gigantea(Oustalet, 1877)</td>\n",
       "      <td>Pseudibis gigantea Oustalet, 1877</td>\n",
       "      <td>The giant ibis (Thaumatibis gigantea), the onl...</td>\n",
       "      <td>[\"Articles with 'species' microformats\", 'Arti...</td>\n",
       "      <td>['http://www.arkive.org/giant-ibis/thaumatibis...</td>\n",
       "      <td>https://en.wikipedia.org/wiki/Giant_ibis</td>\n",
       "      <td>https://upload.wikimedia.org/wikipedia/commons...</td>\n",
       "    </tr>\n",
       "  </tbody>\n",
       "</table>\n",
       "</div>"
      ],
      "text/plain": [
       "   Unnamed: 0                                         Name  \\\n",
       "0           0  ('Giant honeyeater', 'Conservation status')   \n",
       "1           1                            Giant hummingbird   \n",
       "2           2                                   Giant ibis   \n",
       "\n",
       "                   Conservation status   Kingdom    Phylum Class  \\\n",
       "0                                  NaN  Animalia  Chordata  Aves   \n",
       "1          Least Concern (IUCN 3.1)[1]  Animalia  Chordata  Aves   \n",
       "2  Critically Endangered (IUCN 3.1)[1]  Animalia  Chordata  Aves   \n",
       "\n",
       "            Order             Family                       Genus  \\\n",
       "0   Passeriformes       Meliphagidae                   Gymnomyza   \n",
       "1     Apodiformes        Trochilidae     PatagonaG.R. Gray, 1840   \n",
       "2  Pelecaniformes  Threskiornithidae  ThaumatibisElliot, 1877[2]   \n",
       "\n",
       "             Species                         Binomial Name  \\\n",
       "0  G. brunneirostris  Gymnomyza brunneirostris(Mayr, 1932)   \n",
       "1           P. gigas        Patagona gigas(Vieillot, 1824)   \n",
       "2        T. gigantea  Thaumatibis gigantea(Oustalet, 1877)   \n",
       "\n",
       "                            Synonyms  \\\n",
       "0                                NaN   \n",
       "1                                NaN   \n",
       "2  Pseudibis gigantea Oustalet, 1877   \n",
       "\n",
       "                                             Summary  \\\n",
       "0  The conservation status of a group of organism...   \n",
       "1  The giant hummingbird (Patagona gigas) is the ...   \n",
       "2  The giant ibis (Thaumatibis gigantea), the onl...   \n",
       "\n",
       "                                          Categories  \\\n",
       "0  ['All articles containing potentially dated st...   \n",
       "1  [\"Articles with 'species' microformats\", 'Arti...   \n",
       "2  [\"Articles with 'species' microformats\", 'Arti...   \n",
       "\n",
       "                                          References  \\\n",
       "0  ['http://www.inbo.be/content/homepage_en.asp',...   \n",
       "1  ['http://ibc.lynxeds.com/sound/giant-hummingbi...   \n",
       "2  ['http://www.arkive.org/giant-ibis/thaumatibis...   \n",
       "\n",
       "                                            Wiki URL  \\\n",
       "0  https://en.wikipedia.org/wiki/Conservation_status   \n",
       "1    https://en.wikipedia.org/wiki/Giant_hummingbird   \n",
       "2           https://en.wikipedia.org/wiki/Giant_ibis   \n",
       "\n",
       "                                               Image  \n",
       "0  https://upload.wikimedia.org/wikipedia/commons...  \n",
       "1  https://upload.wikimedia.org/wikipedia/commons...  \n",
       "2  https://upload.wikimedia.org/wikipedia/commons...  "
      ]
     },
     "execution_count": 20,
     "metadata": {},
     "output_type": "execute_result"
    }
   ],
   "source": [
    "#Read file obtained during Data_extraction\n",
    "df = pd.read_excel('Birds_Dataset_before_Data-preprocessing.xlsx', sheet_name = 'Sheet1')\n",
    "df.head()"
   ]
  },
  {
   "cell_type": "code",
   "execution_count": 21,
   "id": "b1d94de3",
   "metadata": {},
   "outputs": [],
   "source": [
    "#Dropping synonyms column as it has more than 20% missing values. It doesn’t add much to our further EDA analysis and hence, dropped the attribute \n",
    "\n",
    "df = df.drop('Synonyms',axis = 1)"
   ]
  },
  {
   "cell_type": "code",
   "execution_count": 22,
   "id": "629aed86",
   "metadata": {},
   "outputs": [],
   "source": [
    "#Since there are 18 attributes, a missing value of threshold:3 is set. Any row having more than 3 missing values will be dropped\n",
    "df = df.dropna(thresh=3, axis = 0)"
   ]
  },
  {
   "cell_type": "code",
   "execution_count": 23,
   "id": "cb64e9f2",
   "metadata": {},
   "outputs": [
    {
     "data": {
      "text/html": [
       "<div>\n",
       "<style scoped>\n",
       "    .dataframe tbody tr th:only-of-type {\n",
       "        vertical-align: middle;\n",
       "    }\n",
       "\n",
       "    .dataframe tbody tr th {\n",
       "        vertical-align: top;\n",
       "    }\n",
       "\n",
       "    .dataframe thead th {\n",
       "        text-align: right;\n",
       "    }\n",
       "</style>\n",
       "<table border=\"1\" class=\"dataframe\">\n",
       "  <thead>\n",
       "    <tr style=\"text-align: right;\">\n",
       "      <th></th>\n",
       "      <th>Unnamed: 0</th>\n",
       "      <th>Name</th>\n",
       "      <th>Conservation status</th>\n",
       "      <th>Kingdom</th>\n",
       "      <th>Phylum</th>\n",
       "      <th>Class</th>\n",
       "      <th>Order</th>\n",
       "      <th>Family</th>\n",
       "      <th>Genus</th>\n",
       "      <th>Species</th>\n",
       "      <th>Binomial Name</th>\n",
       "      <th>Summary</th>\n",
       "      <th>Categories</th>\n",
       "      <th>References</th>\n",
       "      <th>Wiki URL</th>\n",
       "      <th>Image</th>\n",
       "    </tr>\n",
       "  </thead>\n",
       "  <tbody>\n",
       "    <tr>\n",
       "      <th>0</th>\n",
       "      <td>0</td>\n",
       "      <td>('Giant honeyeater', 'Conservation status')</td>\n",
       "      <td>NaN</td>\n",
       "      <td>Animalia</td>\n",
       "      <td>Chordata</td>\n",
       "      <td>Aves</td>\n",
       "      <td>Passeriformes</td>\n",
       "      <td>Meliphagidae</td>\n",
       "      <td>Gymnomyza</td>\n",
       "      <td>G. brunneirostris</td>\n",
       "      <td>Gymnomyza brunneirostris(Mayr, 1932)</td>\n",
       "      <td>The conservation status of a group of organism...</td>\n",
       "      <td>['All articles containing potentially dated st...</td>\n",
       "      <td>['http://www.inbo.be/content/homepage_en.asp',...</td>\n",
       "      <td>https://en.wikipedia.org/wiki/Conservation_status</td>\n",
       "      <td>https://upload.wikimedia.org/wikipedia/commons...</td>\n",
       "    </tr>\n",
       "    <tr>\n",
       "      <th>1</th>\n",
       "      <td>1</td>\n",
       "      <td>Giant hummingbird</td>\n",
       "      <td>Least Concern (IUCN 3.1)[1]</td>\n",
       "      <td>Animalia</td>\n",
       "      <td>Chordata</td>\n",
       "      <td>Aves</td>\n",
       "      <td>Apodiformes</td>\n",
       "      <td>Trochilidae</td>\n",
       "      <td>PatagonaG.R. Gray, 1840</td>\n",
       "      <td>P. gigas</td>\n",
       "      <td>Patagona gigas(Vieillot, 1824)</td>\n",
       "      <td>The giant hummingbird (Patagona gigas) is the ...</td>\n",
       "      <td>[\"Articles with 'species' microformats\", 'Arti...</td>\n",
       "      <td>['http://ibc.lynxeds.com/sound/giant-hummingbi...</td>\n",
       "      <td>https://en.wikipedia.org/wiki/Giant_hummingbird</td>\n",
       "      <td>https://upload.wikimedia.org/wikipedia/commons...</td>\n",
       "    </tr>\n",
       "    <tr>\n",
       "      <th>2</th>\n",
       "      <td>2</td>\n",
       "      <td>Giant ibis</td>\n",
       "      <td>Critically Endangered (IUCN 3.1)[1]</td>\n",
       "      <td>Animalia</td>\n",
       "      <td>Chordata</td>\n",
       "      <td>Aves</td>\n",
       "      <td>Pelecaniformes</td>\n",
       "      <td>Threskiornithidae</td>\n",
       "      <td>ThaumatibisElliot, 1877[2]</td>\n",
       "      <td>T. gigantea</td>\n",
       "      <td>Thaumatibis gigantea(Oustalet, 1877)</td>\n",
       "      <td>The giant ibis (Thaumatibis gigantea), the onl...</td>\n",
       "      <td>[\"Articles with 'species' microformats\", 'Arti...</td>\n",
       "      <td>['http://www.arkive.org/giant-ibis/thaumatibis...</td>\n",
       "      <td>https://en.wikipedia.org/wiki/Giant_ibis</td>\n",
       "      <td>https://upload.wikimedia.org/wikipedia/commons...</td>\n",
       "    </tr>\n",
       "  </tbody>\n",
       "</table>\n",
       "</div>"
      ],
      "text/plain": [
       "   Unnamed: 0                                         Name  \\\n",
       "0           0  ('Giant honeyeater', 'Conservation status')   \n",
       "1           1                            Giant hummingbird   \n",
       "2           2                                   Giant ibis   \n",
       "\n",
       "                   Conservation status   Kingdom    Phylum Class  \\\n",
       "0                                  NaN  Animalia  Chordata  Aves   \n",
       "1          Least Concern (IUCN 3.1)[1]  Animalia  Chordata  Aves   \n",
       "2  Critically Endangered (IUCN 3.1)[1]  Animalia  Chordata  Aves   \n",
       "\n",
       "            Order             Family                       Genus  \\\n",
       "0   Passeriformes       Meliphagidae                   Gymnomyza   \n",
       "1     Apodiformes        Trochilidae     PatagonaG.R. Gray, 1840   \n",
       "2  Pelecaniformes  Threskiornithidae  ThaumatibisElliot, 1877[2]   \n",
       "\n",
       "             Species                         Binomial Name  \\\n",
       "0  G. brunneirostris  Gymnomyza brunneirostris(Mayr, 1932)   \n",
       "1           P. gigas        Patagona gigas(Vieillot, 1824)   \n",
       "2        T. gigantea  Thaumatibis gigantea(Oustalet, 1877)   \n",
       "\n",
       "                                             Summary  \\\n",
       "0  The conservation status of a group of organism...   \n",
       "1  The giant hummingbird (Patagona gigas) is the ...   \n",
       "2  The giant ibis (Thaumatibis gigantea), the onl...   \n",
       "\n",
       "                                          Categories  \\\n",
       "0  ['All articles containing potentially dated st...   \n",
       "1  [\"Articles with 'species' microformats\", 'Arti...   \n",
       "2  [\"Articles with 'species' microformats\", 'Arti...   \n",
       "\n",
       "                                          References  \\\n",
       "0  ['http://www.inbo.be/content/homepage_en.asp',...   \n",
       "1  ['http://ibc.lynxeds.com/sound/giant-hummingbi...   \n",
       "2  ['http://www.arkive.org/giant-ibis/thaumatibis...   \n",
       "\n",
       "                                            Wiki URL  \\\n",
       "0  https://en.wikipedia.org/wiki/Conservation_status   \n",
       "1    https://en.wikipedia.org/wiki/Giant_hummingbird   \n",
       "2           https://en.wikipedia.org/wiki/Giant_ibis   \n",
       "\n",
       "                                               Image  \n",
       "0  https://upload.wikimedia.org/wikipedia/commons...  \n",
       "1  https://upload.wikimedia.org/wikipedia/commons...  \n",
       "2  https://upload.wikimedia.org/wikipedia/commons...  "
      ]
     },
     "execution_count": 23,
     "metadata": {},
     "output_type": "execute_result"
    }
   ],
   "source": [
    "df"
   ]
  },
  {
   "cell_type": "code",
   "execution_count": 24,
   "id": "afbad6ac",
   "metadata": {},
   "outputs": [],
   "source": [
    "#Pre-processing steps:\n",
    "#When the infobox of a bird doesn’t have an image, the name of the bird is scraped incorrectly.Hence cleaning it\n",
    "\n",
    "def clean_Name(df):\n",
    "    sub_list = [\"Conservation\", \"status\", \"Scientific\", \"classification\"]\n",
    "    for i in range(0, len(df)):\n",
    "        for sub in sub_list:\n",
    "            df.Name[i] = df.Name[i].replace(sub, ' ')\n",
    "        df.Name[i] = df.Name[i].translate(str.maketrans('', '',string.punctuation))\n",
    "        df.Name[i] = df.Name[i].strip()\n",
    "        print(df.Name[i])\n"
   ]
  },
  {
   "cell_type": "code",
   "execution_count": 25,
   "id": "ea4fe388",
   "metadata": {},
   "outputs": [],
   "source": [
    "df['Conservation status'] = df['Conservation status'].astype(str)"
   ]
  },
  {
   "cell_type": "code",
   "execution_count": 26,
   "id": "c342f21c",
   "metadata": {},
   "outputs": [],
   "source": [
    "#Cleaning the Conservation Status to be more meaningful:\n",
    "def clean_Conservation_Status(df):\n",
    "    for i in range(0, len(df)): \n",
    "        df['Conservation status'][i] = df['Conservation status'][i].split('(',1)[0]\n",
    "        print(df['Conservation status'][i])"
   ]
  },
  {
   "cell_type": "code",
   "execution_count": 27,
   "id": "5deea5bf",
   "metadata": {},
   "outputs": [],
   "source": [
    "#References and Categories are extracted in the form of a list. So, they are cleaned to comma separated values\n",
    "def clean_Categories_and_References(df):\n",
    "    remove_list = '[]\\\"\\''\n",
    "    for i in range(0, len(df)):\n",
    "        df.Categories[i] = df.Categories[i].translate(str.maketrans('', '', remove_list))\n",
    "        df.References[i] = df.References[i].translate(str.maketrans('', '', remove_list))\n",
    "        print(df.Categories[i])\n",
    "        print(df.References[i])"
   ]
  },
  {
   "cell_type": "code",
   "execution_count": 28,
   "id": "570639be",
   "metadata": {},
   "outputs": [
    {
     "name": "stdout",
     "output_type": "stream",
     "text": [
      "All articles containing potentially dated statements, Articles containing potentially dated statements from January 2008, Articles with short description\n",
      "http://www.inbo.be/content/homepage_en.asp, http://www.cosepac.gc.ca/eng/sct5/index_e.cfm, http://www.ymparisto.fi/default.asp?node=6053&lan=en\n",
      "Articles with species microformats, Articles with short description, Birds described in 1824\n",
      "http://ibc.lynxeds.com/sound/giant-hummingbird-patagona-gigas/calls-high-note, http://ibc.lynxeds.com/species/giant-hummingbird-patagona-gigas, http://hss.ulb.uni-bonn.de/2003/0273/0273.htm\n",
      "Articles with species microformats, Articles with short description, Birds described in 1877\n",
      "http://www.arkive.org/giant-ibis/thaumatibis-gigantea/#text=Facts, http://datazone.birdlife.org/species/factsheet/22697536, http://www.birdlife.org/datazone/species/index.html?action=SpcHTMDetails.asp&sid=3800&m=0\n"
     ]
    },
    {
     "name": "stderr",
     "output_type": "stream",
     "text": [
      "<ipython-input-27-8152d241147a>:4: SettingWithCopyWarning: \n",
      "A value is trying to be set on a copy of a slice from a DataFrame\n",
      "\n",
      "See the caveats in the documentation: https://pandas.pydata.org/pandas-docs/stable/user_guide/indexing.html#returning-a-view-versus-a-copy\n",
      "  df.Categories[i] = df.Categories[i].translate(str.maketrans('', '', remove_list))\n",
      "<ipython-input-27-8152d241147a>:5: SettingWithCopyWarning: \n",
      "A value is trying to be set on a copy of a slice from a DataFrame\n",
      "\n",
      "See the caveats in the documentation: https://pandas.pydata.org/pandas-docs/stable/user_guide/indexing.html#returning-a-view-versus-a-copy\n",
      "  df.References[i] = df.References[i].translate(str.maketrans('', '', remove_list))\n"
     ]
    }
   ],
   "source": [
    "clean_Categories_and_References(df)"
   ]
  },
  {
   "cell_type": "code",
   "execution_count": 29,
   "id": "84481600",
   "metadata": {},
   "outputs": [
    {
     "name": "stdout",
     "output_type": "stream",
     "text": [
      "nan\n",
      "Least Concern \n",
      "Critically Endangered \n"
     ]
    },
    {
     "name": "stderr",
     "output_type": "stream",
     "text": [
      "<ipython-input-26-212edc2babd6>:3: SettingWithCopyWarning: \n",
      "A value is trying to be set on a copy of a slice from a DataFrame\n",
      "\n",
      "See the caveats in the documentation: https://pandas.pydata.org/pandas-docs/stable/user_guide/indexing.html#returning-a-view-versus-a-copy\n",
      "  df['Conservation status'][i] = df['Conservation status'][i].split('(',1)[0]\n"
     ]
    }
   ],
   "source": [
    "clean_Conservation_Status(df)"
   ]
  },
  {
   "cell_type": "code",
   "execution_count": 30,
   "id": "9f4e732c",
   "metadata": {
    "scrolled": true
   },
   "outputs": [
    {
     "name": "stdout",
     "output_type": "stream",
     "text": [
      "Giant honeyeater\n",
      "Giant hummingbird\n",
      "Giant ibis\n"
     ]
    },
    {
     "name": "stderr",
     "output_type": "stream",
     "text": [
      "<ipython-input-24-7615b26c73e2>:5: SettingWithCopyWarning: \n",
      "A value is trying to be set on a copy of a slice from a DataFrame\n",
      "\n",
      "See the caveats in the documentation: https://pandas.pydata.org/pandas-docs/stable/user_guide/indexing.html#returning-a-view-versus-a-copy\n",
      "  df.Name[i] = df.Name[i].replace(sub, ' ')\n",
      "<ipython-input-24-7615b26c73e2>:6: SettingWithCopyWarning: \n",
      "A value is trying to be set on a copy of a slice from a DataFrame\n",
      "\n",
      "See the caveats in the documentation: https://pandas.pydata.org/pandas-docs/stable/user_guide/indexing.html#returning-a-view-versus-a-copy\n",
      "  df.Name[i] = df.Name[i].translate(str.maketrans('', '',string.punctuation))\n",
      "<ipython-input-24-7615b26c73e2>:7: SettingWithCopyWarning: \n",
      "A value is trying to be set on a copy of a slice from a DataFrame\n",
      "\n",
      "See the caveats in the documentation: https://pandas.pydata.org/pandas-docs/stable/user_guide/indexing.html#returning-a-view-versus-a-copy\n",
      "  df.Name[i] = df.Name[i].strip()\n"
     ]
    }
   ],
   "source": [
    "clean_Name(df)"
   ]
  },
  {
   "cell_type": "code",
   "execution_count": 32,
   "id": "a838122b",
   "metadata": {},
   "outputs": [
    {
     "name": "stdout",
     "output_type": "stream",
     "text": [
      "DataFrame is written to Excel File successfully.\n"
     ]
    }
   ],
   "source": [
    "#Exporting data to Excel\n",
    "#Give File name here\n",
    "file_name = 'Birds_Dataset_after_Data-preprocessing.xlsx'\n",
    "  \n",
    "# writing to excel\n",
    "df.to_excel(file_name)\n",
    "print('DataFrame is written to Excel File successfully.')"
   ]
  }
 ],
 "metadata": {
  "kernelspec": {
   "display_name": "Python 3",
   "language": "python",
   "name": "python3"
  },
  "language_info": {
   "codemirror_mode": {
    "name": "ipython",
    "version": 3
   },
   "file_extension": ".py",
   "mimetype": "text/x-python",
   "name": "python",
   "nbconvert_exporter": "python",
   "pygments_lexer": "ipython3",
   "version": "3.8.8"
  }
 },
 "nbformat": 4,
 "nbformat_minor": 5
}
